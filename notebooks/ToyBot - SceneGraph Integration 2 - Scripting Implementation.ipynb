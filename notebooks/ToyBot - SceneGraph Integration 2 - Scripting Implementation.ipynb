{
 "cells": [
  {
   "cell_type": "markdown",
   "metadata": {},
   "source": [
    "Integrating the SceneGraph notebooks with the Toybot notebooks\n",
    "\n",
    "This includes code to run the bot as script."
   ]
  },
  {
   "cell_type": "markdown",
   "metadata": {},
   "source": [
    "SceneGraph\n",
    "==\n",
    "\n",
    "The scenegraph stores operations as nodes.\n",
    "\n",
    "These include that change state (fill, stroke etc) and operations that result in elements being drawn (path)"
   ]
  },
  {
   "cell_type": "code",
   "execution_count": 1,
   "metadata": {},
   "outputs": [],
   "source": [
    "class SceneGraph:\n",
    "    def __init__(self):\n",
    "        self.nodes = []\n",
    "        \n",
    "    def add_node(self, node):\n",
    "        self.nodes.append(node)\n",
    "    \n",
    "    def __iter__(self):\n",
    "        \"\"\"\n",
    "        Iterator that yields every node in the graph\n",
    "        \"\"\"\n",
    "        for node in self.nodes:\n",
    "            yield node"
   ]
  },
  {
   "cell_type": "markdown",
   "metadata": {},
   "source": [
    "ConsoleRenderer\n",
    "==\n",
    "\n",
    "The ConsoleRenderer outputs every node of scenegraph to the console"
   ]
  },
  {
   "cell_type": "code",
   "execution_count": 2,
   "metadata": {},
   "outputs": [],
   "source": [
    "class ConsoleRenderer:\n",
    "    def render(self, graph):\n",
    "        for node in graph:\n",
    "            print(node)     "
   ]
  },
  {
   "cell_type": "markdown",
   "metadata": {},
   "source": [
    "Grammar\n",
    "==\n",
    "\n",
    "The ToyBot class provides the user-facing API for drawing and setting up colours."
   ]
  },
  {
   "cell_type": "code",
   "execution_count": 3,
   "metadata": {},
   "outputs": [],
   "source": [
    "class ToyBot:\n",
    "    def __init__(self, graph):\n",
    "        self.graph = graph\n",
    "    \n",
    "    def rect(self, x, y, width, height, fill=None, stroke=None):\n",
    "        coords = [(x, y), (x, y+height), (x+width, y+height), (x+width, y)]\n",
    "        node = {'type': 'path', 'coords': coords}\n",
    "        \n",
    "        self.graph.add_node(node)"
   ]
  },
  {
   "cell_type": "markdown",
   "metadata": {},
   "source": [
    "# Scripting"
   ]
  },
  {
   "cell_type": "markdown",
   "metadata": {},
   "source": [
    "## Setup the scripting namespace\n",
    "\n",
    "This function adds all the user-facing API of a bot into a namespace to enable scripting."
   ]
  },
  {
   "cell_type": "code",
   "execution_count": 4,
   "metadata": {},
   "outputs": [],
   "source": [
    "import inspect\n",
    "\n",
    "def create_scripting_namespace(bot):\n",
    "    namespace = {}\n",
    "    for name, method in inspect.getmembers(bot, predicate=inspect.ismethod):\n",
    "        if name.startswith('__'):\n",
    "            continue\n",
    "        namespace[name] = method\n",
    "    return namespace"
   ]
  },
  {
   "cell_type": "markdown",
   "metadata": {},
   "source": [
    "**Note:** This is only gathering functions, not variables."
   ]
  },
  {
   "cell_type": "raw",
   "metadata": {},
   "source": [
    "@stu > This needs a unit test.\n",
    "@stu > The test would pass in a ToyBot instance and check that the dict returned has the expected members."
   ]
  },
  {
   "cell_type": "markdown",
   "metadata": {},
   "source": [
    "## Running a script\n",
    "\n",
    "The run function accepts a bot script, does the setup needed to render a bot and then renders."
   ]
  },
  {
   "cell_type": "code",
   "execution_count": 5,
   "metadata": {},
   "outputs": [],
   "source": [
    "def run(source):\n",
    "    graph = SceneGraph()\n",
    "    renderer = ConsoleRenderer()\n",
    "\n",
    "    bot = ToyBot(graph)\n",
    "    namespace = create_scripting_namespace(bot)\n",
    "    \n",
    "    exec(source, namespace)\n",
    "\n",
    "    renderer.render(graph)"
   ]
  },
  {
   "cell_type": "markdown",
   "metadata": {},
   "source": [
    "## Putting it all together - using the scripting interface\n",
    "\n",
    "The scripting interface provides the simplest way of using ToyBot.\n",
    "\n",
    "Pass the code to render to run function."
   ]
  },
  {
   "cell_type": "code",
   "execution_count": 6,
   "metadata": {},
   "outputs": [
    {
     "name": "stdout",
     "output_type": "stream",
     "text": [
      "{'type': 'path', 'coords': [(0, 0), (0, 100), (100, 100), (100, 0)]}\n",
      "{'type': 'path', 'coords': [(25, 30), (25, 100), (75, 100), (75, 30)]}\n"
     ]
    }
   ],
   "source": [
    "code = \"\"\"\n",
    "rect(0, 0, 100, 100)\n",
    "rect(25, 30, 50, 70)\n",
    "\"\"\"\n",
    "\n",
    "run(code)"
   ]
  }
 ],
 "metadata": {
  "kernelspec": {
   "display_name": "Python 3",
   "language": "python",
   "name": "python3"
  },
  "language_info": {
   "codemirror_mode": {
    "name": "ipython",
    "version": 3
   },
   "file_extension": ".py",
   "mimetype": "text/x-python",
   "name": "python",
   "nbconvert_exporter": "python",
   "pygments_lexer": "ipython3",
   "version": "3.6.8"
  }
 },
 "nbformat": 4,
 "nbformat_minor": 2
}
