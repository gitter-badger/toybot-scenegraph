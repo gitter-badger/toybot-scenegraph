{
 "cells": [
  {
   "cell_type": "markdown",
   "metadata": {},
   "source": [
    "2nd iteration of graph.\n",
    "\n",
    "WIP - starting to think about how state (fill, stroke etc) will be updated."
   ]
  },
  {
   "cell_type": "code",
   "execution_count": 4,
   "metadata": {},
   "outputs": [
    {
     "name": "stdout",
     "output_type": "stream",
     "text": [
      "{'update-state': 'fill', 'color': (1, 0, 0)}\n",
      "{'update-state': 'stroke', 'color': (1, 0, 0)}\n",
      "{'type': 'path', 'coords': [(0, 0), (10, 0), (10, 10), (0, 10)]}\n"
     ]
    }
   ],
   "source": [
    "class SceneGraph:\n",
    "    def __init__(self, fill, stroke):\n",
    "        self.nodes = []\n",
    "\n",
    "        # current state\n",
    "        self.fill = fill\n",
    "        self.stroke = stroke\n",
    "        \n",
    "        # state stacks\n",
    "        self.fill_stack = []\n",
    "        self.stroke_stack = []\n",
    "        \n",
    "    def add_node(self, node):\n",
    "        self.nodes.append(node)\n",
    "    \n",
    "    def __iter__(self):\n",
    "        \"\"\"\n",
    "        Iterator that yields every node in the graph\n",
    "        \"\"\"\n",
    "        for node in self.nodes:\n",
    "            yield node\n",
    "\n",
    "class ConsoleRenderer:\n",
    "    def render(self, graph):\n",
    "        for node in graph:\n",
    "            print(node)\n",
    "            \n",
    "initial_state = {\n",
    "    \"fill\": (1, 1, 1),\n",
    "    \"stroke\": (1, 1, 1),\n",
    "}\n",
    "graph = SceneGraph(**initial_state)\n",
    "graph.add_node({\"update-state\":\"fill\", \"color\": (1, 0, 0)})\n",
    "graph.add_node({\"update-state\":\"stroke\", \"color\": (1, 0, 0)})\n",
    "graph.add_node({\"type\": \"path\", \"coords\": [(0, 0), (10, 0), (10, 10), (0, 10)]})\n",
    "\n",
    "renderer = ConsoleRenderer()\n",
    "renderer.render(graph)"
   ]
  },
  {
   "cell_type": "code",
   "execution_count": null,
   "metadata": {},
   "outputs": [],
   "source": []
  }
 ],
 "metadata": {
  "kernelspec": {
   "display_name": "Python 3",
   "language": "python",
   "name": "python3"
  },
  "language_info": {
   "codemirror_mode": {
    "name": "ipython",
    "version": 3
   },
   "file_extension": ".py",
   "mimetype": "text/x-python",
   "name": "python",
   "nbconvert_exporter": "python",
   "pygments_lexer": "ipython3",
   "version": "3.6.8"
  }
 },
 "nbformat": 4,
 "nbformat_minor": 2
}
