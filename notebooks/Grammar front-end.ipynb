{
 "cells": [
  {
   "cell_type": "markdown",
   "metadata": {},
   "source": [
    "# Toybot"
   ]
  },
  {
   "cell_type": "markdown",
   "metadata": {},
   "source": [
    "Dependency time!"
   ]
  },
  {
   "cell_type": "code",
   "execution_count": 160,
   "metadata": {},
   "outputs": [],
   "source": [
    "from pprint import pprint"
   ]
  },
  {
   "cell_type": "markdown",
   "metadata": {},
   "source": [
    "First, set up the base class that we'll use to call drawing commands."
   ]
  },
  {
   "cell_type": "code",
   "execution_count": 161,
   "metadata": {},
   "outputs": [],
   "source": [
    "class ToyBot:\n",
    "    def __init__(self):\n",
    "        pass\n",
    "    \n",
    "    def rect(self, x, y, width, height, fill=None, stroke=None):\n",
    "        coords = [(x, y), (x, y+height), (x+width, y+height), (x+width, y)]\n",
    "        result = {'type': 'path', 'coords': coords}\n",
    "        \n",
    "        pprint(result)"
   ]
  },
  {
   "cell_type": "markdown",
   "metadata": {},
   "source": [
    "Now let's look at the output to ensure it's proper."
   ]
  },
  {
   "cell_type": "code",
   "execution_count": 162,
   "metadata": {},
   "outputs": [
    {
     "name": "stdout",
     "output_type": "stream",
     "text": [
      "{'coords': [(0, 0), (0, 100), (100, 100), (100, 0)], 'type': 'path'}\n"
     ]
    }
   ],
   "source": [
    "toybot = ToyBot()\n",
    "toybot.rect(0, 0, 100, 100)"
   ]
  },
  {
   "cell_type": "markdown",
   "metadata": {},
   "source": [
    "## Get the bot namespace"
   ]
  },
  {
   "cell_type": "code",
   "execution_count": 163,
   "metadata": {
    "scrolled": true
   },
   "outputs": [
    {
     "name": "stdout",
     "output_type": "stream",
     "text": [
      "{'rect': <bound method ToyBot.rect of <__main__.ToyBot object at 0x7f32cca2a438>>}\n"
     ]
    }
   ],
   "source": [
    "bot = ToyBot()\n",
    "namespace = {}\n",
    "for item in dir(bot):\n",
    "    if callable(getattr(bot, item)) and not item.startswith(\"__\"):\n",
    "        namespace[item] = getattr(bot, item)\n",
    "\n",
    "print(namespace)"
   ]
  },
  {
   "cell_type": "markdown",
   "metadata": {},
   "source": [
    "**Note:** This is only gathering functions, not variables."
   ]
  },
  {
   "cell_type": "markdown",
   "metadata": {},
   "source": [
    "## Running a script"
   ]
  },
  {
   "cell_type": "code",
   "execution_count": 164,
   "metadata": {},
   "outputs": [],
   "source": [
    "def run(source):\n",
    "    exec(source, namespace)"
   ]
  },
  {
   "cell_type": "code",
   "execution_count": 165,
   "metadata": {},
   "outputs": [
    {
     "name": "stdout",
     "output_type": "stream",
     "text": [
      "{'coords': [(0, 0), (0, 100), (100, 100), (100, 0)], 'type': 'path'}\n",
      "{'coords': [(25, 30), (25, 100), (75, 100), (75, 30)], 'type': 'path'}\n"
     ]
    }
   ],
   "source": [
    "code = \"\"\"\n",
    "rect(0, 0, 100, 100)\n",
    "rect(25, 30, 50, 70)\n",
    "\"\"\"\n",
    "\n",
    "run(code)"
   ]
  }
 ],
 "metadata": {
  "kernelspec": {
   "display_name": "Python 3",
   "language": "python",
   "name": "python3"
  },
  "language_info": {
   "codemirror_mode": {
    "name": "ipython",
    "version": 3
   },
   "file_extension": ".py",
   "mimetype": "text/x-python",
   "name": "python",
   "nbconvert_exporter": "python",
   "pygments_lexer": "ipython3",
   "version": "3.7.2"
  }
 },
 "nbformat": 4,
 "nbformat_minor": 2
}
